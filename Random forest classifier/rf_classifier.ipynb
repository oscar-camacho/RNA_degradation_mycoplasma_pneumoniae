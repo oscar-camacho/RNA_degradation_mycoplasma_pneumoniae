{
 "cells": [
  {
   "cell_type": "markdown",
   "metadata": {
    "colab_type": "text",
    "id": "IwKoO6JUm3T-"
   },
   "source": [
    "## Part II. Environment and dataset"
   ]
  },
  {
   "cell_type": "code",
   "execution_count": 2,
   "metadata": {
    "colab": {},
    "colab_type": "code",
    "executionInfo": {
     "elapsed": 1108,
     "status": "ok",
     "timestamp": 1599302244149,
     "user": {
      "displayName": "Samuel Miravet Verde",
      "photoUrl": "https://lh3.googleusercontent.com/a-/AOh14GjDGGaKJmqa2Z1UGXlLT53WMo2BYkKW9vc9tfQC=s64",
      "userId": "09463750118472617321"
     },
     "user_tz": -120
    },
    "id": "1lZIY_VkRYJ4"
   },
   "outputs": [
    {
     "name": "stdout",
     "output_type": "stream",
     "text": [
      "3.8.3 (default, May 19 2020, 18:47:26) \n",
      "[GCC 7.3.0]\n"
     ]
    }
   ],
   "source": [
    "# Import required packages\n",
    "import pandas as pd\n",
    "import numpy as np\n",
    "import matplotlib.pyplot as plt\n",
    "from sklearn.decomposition import PCA\n",
    "from sklearn.preprocessing import StandardScaler\n",
    "from sklearn.model_selection import train_test_split\n",
    "import matplotlib.lines as mlines\n",
    "import sys\n",
    "print(sys.version)\n",
    "import seaborn as sns\n",
    "\n"
   ]
  },
  {
   "cell_type": "code",
   "execution_count": 3,
   "metadata": {
    "colab": {
     "base_uri": "https://localhost:8080/",
     "height": 312
    },
    "colab_type": "code",
    "executionInfo": {
     "elapsed": 967,
     "status": "ok",
     "timestamp": 1599302673919,
     "user": {
      "displayName": "Samuel Miravet Verde",
      "photoUrl": "https://lh3.googleusercontent.com/a-/AOh14GjDGGaKJmqa2Z1UGXlLT53WMo2BYkKW9vc9tfQC=s64",
      "userId": "09463750118472617321"
     },
     "user_tz": -120
    },
    "id": "Rv_8VpkSm3Uf",
    "outputId": "4994dd49-1b4b-4a3e-af18-4a90a83b7dfd"
   },
   "outputs": [],
   "source": [
    "dfnew = pd.read_csv(\"transcript_annotation_rf.csv\", delimiter=',', sep=r', ') \n",
    "dfnew = pd.get_dummies(dfnew, columns=[\"presence_term\", \"localization\", \"essentiality\", \"COG_category\"])\n",
    "\n",
    "# keep only CDS with good correlation and positive half life\n",
    "dfnew2 = dfnew[(dfnew['type']=='mRNA') & (dfnew[\"r_squaredCDS\"] >= 0.75) & (dfnew[\"half_lifeCDS\"]>0)].copy()\n",
    "features2select = ['ORF', 'GC_content',\n",
    "                   'first_energy3', 'last_energy3',\n",
    "                   'coverage', 'fiveUTR_length', 'transcript_length', 'first_riboseq1',\n",
    "\n",
    "                   'half_lifeCDS', 'hf_category2']  # The two last are the dependent values\n",
    "dfnew2 = dfnew2[features2select]\n",
    "dfnew2.set_index('ORF', inplace=True)\n",
    "dfnew2 = dfnew2[~dfnew2.isna().any(axis=1)]\n",
    "#df1 = dfnew2[dfnew2.isna().any(axis=1)]\n"
   ]
  },
  {
   "cell_type": "code",
   "execution_count": 4,
   "metadata": {},
   "outputs": [],
   "source": [
    "# Rational selection of features\n",
    "X = dfnew2[list(dfnew2.columns)[:-2]].copy()\n",
    "\n",
    "# Predictables\n",
    "#y = list(dfnew2['half_lifeCDS'])\n",
    "y = list(dfnew2['hf_category2']) \n",
    "#y_cat2 = np.array([0 if i<=np.median(y) else 1 for i in y]) # 2 categories classification (using the median as threshold between categories)\n",
    "#y_cat3 = LabelBinarizer().fit_transform(y_cat)"
   ]
  },
  {
   "cell_type": "code",
   "execution_count": 5,
   "metadata": {
    "colab": {},
    "colab_type": "code",
    "executionInfo": {
     "elapsed": 987,
     "status": "ok",
     "timestamp": 1599305013999,
     "user": {
      "displayName": "Samuel Miravet Verde",
      "photoUrl": "https://lh3.googleusercontent.com/a-/AOh14GjDGGaKJmqa2Z1UGXlLT53WMo2BYkKW9vc9tfQC=s64",
      "userId": "09463750118472617321"
     },
     "user_tz": -120
    },
    "id": "UqViU_-Qm3Wb"
   },
   "outputs": [],
   "source": [
    "X_train, X_test, y_train, y_test = train_test_split(X,y, random_state = 47, stratify = y)"
   ]
  },
  {
   "cell_type": "code",
   "execution_count": 6,
   "metadata": {
    "colab": {
     "base_uri": "https://localhost:8080/",
     "height": 156
    },
    "colab_type": "code",
    "executionInfo": {
     "elapsed": 1731,
     "status": "ok",
     "timestamp": 1599305186775,
     "user": {
      "displayName": "Samuel Miravet Verde",
      "photoUrl": "https://lh3.googleusercontent.com/a-/AOh14GjDGGaKJmqa2Z1UGXlLT53WMo2BYkKW9vc9tfQC=s64",
      "userId": "09463750118472617321"
     },
     "user_tz": -120
    },
    "id": "FwVDqODFm3Ww",
    "outputId": "5546839b-abc3-4d4c-e459-73219e29cf51"
   },
   "outputs": [
    {
     "data": {
      "text/plain": [
       "RandomForestClassifier(max_depth=7, n_estimators=10000)"
      ]
     },
     "execution_count": 6,
     "metadata": {},
     "output_type": "execute_result"
    }
   ],
   "source": [
    "from sklearn.ensemble import RandomForestClassifier\n",
    "model = RandomForestClassifier(n_estimators=10000,max_depth=7)\n",
    "model.fit(X_train,y_train)"
   ]
  },
  {
   "cell_type": "code",
   "execution_count": 8,
   "metadata": {},
   "outputs": [
    {
     "name": "stdout",
     "output_type": "stream",
     "text": [
      "Parameters currently in use:\n",
      "\n",
      "{'bootstrap': True,\n",
      " 'ccp_alpha': 0.0,\n",
      " 'class_weight': None,\n",
      " 'criterion': 'gini',\n",
      " 'max_depth': 7,\n",
      " 'max_features': 'auto',\n",
      " 'max_leaf_nodes': None,\n",
      " 'max_samples': None,\n",
      " 'min_impurity_decrease': 0.0,\n",
      " 'min_impurity_split': None,\n",
      " 'min_samples_leaf': 1,\n",
      " 'min_samples_split': 2,\n",
      " 'min_weight_fraction_leaf': 0.0,\n",
      " 'n_estimators': 10000,\n",
      " 'n_jobs': None,\n",
      " 'oob_score': False,\n",
      " 'random_state': None,\n",
      " 'verbose': 0,\n",
      " 'warm_start': False}\n"
     ]
    }
   ],
   "source": [
    "from pprint import pprint\n",
    "print('Parameters currently in use:\\n')\n",
    "pprint(model.get_params())"
   ]
  },
  {
   "cell_type": "markdown",
   "metadata": {
    "colab_type": "text",
    "id": "3cbF6reom3XD"
   },
   "source": [
    "### Step 4. Evaluate the predictor\n"
   ]
  },
  {
   "cell_type": "code",
   "execution_count": 219,
   "metadata": {
    "colab": {
     "base_uri": "https://localhost:8080/",
     "height": 34
    },
    "colab_type": "code",
    "executionInfo": {
     "elapsed": 1142,
     "status": "ok",
     "timestamp": 1599305255263,
     "user": {
      "displayName": "Samuel Miravet Verde",
      "photoUrl": "https://lh3.googleusercontent.com/a-/AOh14GjDGGaKJmqa2Z1UGXlLT53WMo2BYkKW9vc9tfQC=s64",
      "userId": "09463750118472617321"
     },
     "user_tz": -120
    },
    "id": "w8auYi9Cm3XH",
    "outputId": "22399b8a-f6eb-4de4-854a-5a2e3291f7a7"
   },
   "outputs": [
    {
     "name": "stdout",
     "output_type": "stream",
     "text": [
      "54.347826086956516\n"
     ]
    }
   ],
   "source": [
    "# Measuring the accuracy of our model\n",
    "from sklearn.metrics import accuracy_score\n",
    "\n",
    "accuracy = accuracy_score(y_test, model.predict(X_test))*100\n",
    "print(accuracy)"
   ]
  },
  {
   "cell_type": "code",
   "execution_count": 11,
   "metadata": {
    "colab": {
     "base_uri": "https://localhost:8080/",
     "height": 541
    },
    "colab_type": "code",
    "executionInfo": {
     "elapsed": 1632,
     "status": "ok",
     "timestamp": 1599305348145,
     "user": {
      "displayName": "Samuel Miravet Verde",
      "photoUrl": "https://lh3.googleusercontent.com/a-/AOh14GjDGGaKJmqa2Z1UGXlLT53WMo2BYkKW9vc9tfQC=s64",
      "userId": "09463750118472617321"
     },
     "user_tz": -120
    },
    "id": "uk0bDsqvm3XL",
    "outputId": "63123ad6-ded8-4ff7-a829-3d9089b361e7"
   },
   "outputs": [
    {
     "ename": "ValueError",
     "evalue": "RandomForestClassifier should be a binary classifier",
     "output_type": "error",
     "traceback": [
      "\u001b[0;31m---------------------------------------------------------------------------\u001b[0m",
      "\u001b[0;31mValueError\u001b[0m                                Traceback (most recent call last)",
      "\u001b[0;32m<ipython-input-11-979221a42c2a>\u001b[0m in \u001b[0;36m<module>\u001b[0;34m\u001b[0m\n\u001b[1;32m      1\u001b[0m \u001b[0;32mfrom\u001b[0m \u001b[0msklearn\u001b[0m \u001b[0;32mimport\u001b[0m \u001b[0mmetrics\u001b[0m\u001b[0;34m\u001b[0m\u001b[0;34m\u001b[0m\u001b[0m\n\u001b[1;32m      2\u001b[0m \u001b[0;34m\u001b[0m\u001b[0m\n\u001b[0;32m----> 3\u001b[0;31m \u001b[0mmetrics\u001b[0m\u001b[0;34m.\u001b[0m\u001b[0mplot_roc_curve\u001b[0m\u001b[0;34m(\u001b[0m\u001b[0mmodel\u001b[0m\u001b[0;34m,\u001b[0m \u001b[0mX_train\u001b[0m\u001b[0;34m,\u001b[0m \u001b[0my_train\u001b[0m\u001b[0;34m)\u001b[0m\u001b[0;34m\u001b[0m\u001b[0;34m\u001b[0m\u001b[0m\n\u001b[0m\u001b[1;32m      4\u001b[0m \u001b[0mplt\u001b[0m\u001b[0;34m.\u001b[0m\u001b[0mshow\u001b[0m\u001b[0;34m(\u001b[0m\u001b[0;34m)\u001b[0m\u001b[0;34m\u001b[0m\u001b[0;34m\u001b[0m\u001b[0m\n\u001b[1;32m      5\u001b[0m \u001b[0;31m#metrics.plot_roc_curve(model, X_test, y_test)\u001b[0m\u001b[0;34m\u001b[0m\u001b[0;34m\u001b[0m\u001b[0;34m\u001b[0m\u001b[0m\n",
      "\u001b[0;32m~/miniconda3/lib/python3.8/site-packages/sklearn/utils/validation.py\u001b[0m in \u001b[0;36minner_f\u001b[0;34m(*args, **kwargs)\u001b[0m\n\u001b[1;32m     61\u001b[0m             \u001b[0mextra_args\u001b[0m \u001b[0;34m=\u001b[0m \u001b[0mlen\u001b[0m\u001b[0;34m(\u001b[0m\u001b[0margs\u001b[0m\u001b[0;34m)\u001b[0m \u001b[0;34m-\u001b[0m \u001b[0mlen\u001b[0m\u001b[0;34m(\u001b[0m\u001b[0mall_args\u001b[0m\u001b[0;34m)\u001b[0m\u001b[0;34m\u001b[0m\u001b[0;34m\u001b[0m\u001b[0m\n\u001b[1;32m     62\u001b[0m             \u001b[0;32mif\u001b[0m \u001b[0mextra_args\u001b[0m \u001b[0;34m<=\u001b[0m \u001b[0;36m0\u001b[0m\u001b[0;34m:\u001b[0m\u001b[0;34m\u001b[0m\u001b[0;34m\u001b[0m\u001b[0m\n\u001b[0;32m---> 63\u001b[0;31m                 \u001b[0;32mreturn\u001b[0m \u001b[0mf\u001b[0m\u001b[0;34m(\u001b[0m\u001b[0;34m*\u001b[0m\u001b[0margs\u001b[0m\u001b[0;34m,\u001b[0m \u001b[0;34m**\u001b[0m\u001b[0mkwargs\u001b[0m\u001b[0;34m)\u001b[0m\u001b[0;34m\u001b[0m\u001b[0;34m\u001b[0m\u001b[0m\n\u001b[0m\u001b[1;32m     64\u001b[0m \u001b[0;34m\u001b[0m\u001b[0m\n\u001b[1;32m     65\u001b[0m             \u001b[0;31m# extra_args > 0\u001b[0m\u001b[0;34m\u001b[0m\u001b[0;34m\u001b[0m\u001b[0;34m\u001b[0m\u001b[0m\n",
      "\u001b[0;32m~/miniconda3/lib/python3.8/site-packages/sklearn/metrics/_plot/roc_curve.py\u001b[0m in \u001b[0;36mplot_roc_curve\u001b[0;34m(estimator, X, y, sample_weight, drop_intermediate, response_method, name, ax, pos_label, **kwargs)\u001b[0m\n\u001b[1;32m    210\u001b[0m     \u001b[0mcheck_matplotlib_support\u001b[0m\u001b[0;34m(\u001b[0m\u001b[0;34m'plot_roc_curve'\u001b[0m\u001b[0;34m)\u001b[0m\u001b[0;34m\u001b[0m\u001b[0;34m\u001b[0m\u001b[0m\n\u001b[1;32m    211\u001b[0m \u001b[0;34m\u001b[0m\u001b[0m\n\u001b[0;32m--> 212\u001b[0;31m     y_pred, pos_label = _get_response(\n\u001b[0m\u001b[1;32m    213\u001b[0m         X, estimator, response_method, pos_label=pos_label)\n\u001b[1;32m    214\u001b[0m \u001b[0;34m\u001b[0m\u001b[0m\n",
      "\u001b[0;32m~/miniconda3/lib/python3.8/site-packages/sklearn/metrics/_plot/base.py\u001b[0m in \u001b[0;36m_get_response\u001b[0;34m(X, estimator, response_method, pos_label)\u001b[0m\n\u001b[1;32m     99\u001b[0m     \u001b[0;32mif\u001b[0m \u001b[0my_pred\u001b[0m\u001b[0;34m.\u001b[0m\u001b[0mndim\u001b[0m \u001b[0;34m!=\u001b[0m \u001b[0;36m1\u001b[0m\u001b[0;34m:\u001b[0m  \u001b[0;31m# `predict_proba`\u001b[0m\u001b[0;34m\u001b[0m\u001b[0;34m\u001b[0m\u001b[0m\n\u001b[1;32m    100\u001b[0m         \u001b[0;32mif\u001b[0m \u001b[0my_pred\u001b[0m\u001b[0;34m.\u001b[0m\u001b[0mshape\u001b[0m\u001b[0;34m[\u001b[0m\u001b[0;36m1\u001b[0m\u001b[0;34m]\u001b[0m \u001b[0;34m!=\u001b[0m \u001b[0;36m2\u001b[0m\u001b[0;34m:\u001b[0m\u001b[0;34m\u001b[0m\u001b[0;34m\u001b[0m\u001b[0m\n\u001b[0;32m--> 101\u001b[0;31m             \u001b[0;32mraise\u001b[0m \u001b[0mValueError\u001b[0m\u001b[0;34m(\u001b[0m\u001b[0mclassification_error\u001b[0m\u001b[0;34m)\u001b[0m\u001b[0;34m\u001b[0m\u001b[0;34m\u001b[0m\u001b[0m\n\u001b[0m\u001b[1;32m    102\u001b[0m         \u001b[0;32mif\u001b[0m \u001b[0mpos_label\u001b[0m \u001b[0;32mis\u001b[0m \u001b[0;32mNone\u001b[0m\u001b[0;34m:\u001b[0m\u001b[0;34m\u001b[0m\u001b[0;34m\u001b[0m\u001b[0m\n\u001b[1;32m    103\u001b[0m             \u001b[0mpos_label\u001b[0m \u001b[0;34m=\u001b[0m \u001b[0mestimator\u001b[0m\u001b[0;34m.\u001b[0m\u001b[0mclasses_\u001b[0m\u001b[0;34m[\u001b[0m\u001b[0;36m1\u001b[0m\u001b[0;34m]\u001b[0m\u001b[0;34m\u001b[0m\u001b[0;34m\u001b[0m\u001b[0m\n",
      "\u001b[0;31mValueError\u001b[0m: RandomForestClassifier should be a binary classifier"
     ]
    }
   ],
   "source": [
    "from sklearn import metrics\n",
    "\n",
    "metrics.plot_roc_curve(model, X_train, y_train)\n",
    "plt.show()       \n",
    "#metrics.plot_roc_curve(model, X_test, y_test)\n",
    "#plt.show()       "
   ]
  },
  {
   "cell_type": "markdown",
   "metadata": {
    "colab_type": "text",
    "id": "4I-u2eWvm3XP"
   },
   "source": [
    "**EXERCISE**: Do you remember how to interpret these graphics? What does AUC mean? What are the differences between? Which model is better considering"
   ]
  },
  {
   "cell_type": "code",
   "execution_count": 23,
   "metadata": {
    "colab": {},
    "colab_type": "code",
    "executionInfo": {
     "elapsed": 951,
     "status": "ok",
     "timestamp": 1599305451359,
     "user": {
      "displayName": "Samuel Miravet Verde",
      "photoUrl": "https://lh3.googleusercontent.com/a-/AOh14GjDGGaKJmqa2Z1UGXlLT53WMo2BYkKW9vc9tfQC=s64",
      "userId": "09463750118472617321"
     },
     "user_tz": -120
    },
    "id": "iblevt7SRmo3"
   },
   "outputs": [],
   "source": [
    "accuracies=[]\n",
    "for i in model.estimators_:\n",
    "  accuracies.append(accuracy_score(y_test, i.predict(X_test)))"
   ]
  },
  {
   "cell_type": "code",
   "execution_count": 24,
   "metadata": {
    "colab": {
     "base_uri": "https://localhost:8080/",
     "height": 34
    },
    "colab_type": "code",
    "executionInfo": {
     "elapsed": 1071,
     "status": "ok",
     "timestamp": 1599305660466,
     "user": {
      "displayName": "Samuel Miravet Verde",
      "photoUrl": "https://lh3.googleusercontent.com/a-/AOh14GjDGGaKJmqa2Z1UGXlLT53WMo2BYkKW9vc9tfQC=s64",
      "userId": "09463750118472617321"
     },
     "user_tz": -120
    },
    "id": "PEaexT34s4BK",
    "outputId": "fd0924f9-a544-4e6a-9b36-1814401c9777"
   },
   "outputs": [
    {
     "data": {
      "text/plain": [
       "0"
      ]
     },
     "execution_count": 24,
     "metadata": {},
     "output_type": "execute_result"
    }
   ],
   "source": [
    "accuracies.index(min(accuracies))"
   ]
  },
  {
   "cell_type": "code",
   "execution_count": 25,
   "metadata": {
    "colab": {
     "base_uri": "https://localhost:8080/",
     "height": 352
    },
    "colab_type": "code",
    "executionInfo": {
     "elapsed": 975,
     "status": "ok",
     "timestamp": 1599305466334,
     "user": {
      "displayName": "Samuel Miravet Verde",
      "photoUrl": "https://lh3.googleusercontent.com/a-/AOh14GjDGGaKJmqa2Z1UGXlLT53WMo2BYkKW9vc9tfQC=s64",
      "userId": "09463750118472617321"
     },
     "user_tz": -120
    },
    "id": "EeJpeF_twAgS",
    "outputId": "7a127bbb-f74e-4673-e51c-0e3d2b151259"
   },
   "outputs": [
    {
     "data": {
      "text/plain": [
       "(array([    0.,     0.,     0.,     0.,     0., 10000.,     0.,     0.,\n",
       "            0.,     0.]),\n",
       " array([-0.5, -0.4, -0.3, -0.2, -0.1,  0. ,  0.1,  0.2,  0.3,  0.4,  0.5]),\n",
       " <BarContainer object of 10 artists>)"
      ]
     },
     "execution_count": 25,
     "metadata": {},
     "output_type": "execute_result"
    },
    {
     "data": {
      "image/png": "[encoded data removed]",
      "text/plain": [
       "<Figure size 432x288 with 1 Axes>"
      ]
     },
     "metadata": {
      "needs_background": "light"
     },
     "output_type": "display_data"
    }
   ],
   "source": [
    "plt.hist(accuracies)"
   ]
  },
  {
   "cell_type": "code",
   "execution_count": 26,
   "metadata": {
    "colab": {
     "base_uri": "https://localhost:8080/",
     "height": 575
    },
    "colab_type": "code",
    "executionInfo": {
     "elapsed": 1337,
     "status": "ok",
     "timestamp": 1599305693438,
     "user": {
      "displayName": "Samuel Miravet Verde",
      "photoUrl": "https://lh3.googleusercontent.com/a-/AOh14GjDGGaKJmqa2Z1UGXlLT53WMo2BYkKW9vc9tfQC=s64",
      "userId": "09463750118472617321"
     },
     "user_tz": -120
    },
    "id": "lIo4H3bfm3W1",
    "outputId": "188d1447-7d2a-4147-8486-e96d1da68852"
   },
   "outputs": [
    {
     "data": {
      "image/png": "[encoded data removed]",
      "text/plain": [
       "<Figure size 720x720 with 1 Axes>"
      ]
     },
     "metadata": {
      "needs_background": "light"
     },
     "output_type": "display_data"
    }
   ],
   "source": [
    "from sklearn.tree import DecisionTreeClassifier\n",
    "from sklearn import tree\n",
    "\n",
    "onetree = model.estimators_[6]\n",
    "plt.figure(figsize=(10,10))\n",
    "tree.plot_tree(onetree,\n",
    "               feature_names = X.columns,\n",
    "               filled = True)\n",
    "plt.show()"
   ]
  },
  {
   "cell_type": "markdown",
   "metadata": {
    "colab_type": "text",
    "id": "56eOABkIm3W4"
   },
   "source": [
    "Now model is a **predictor** that can be asked about the probability of a Pokemon to be legendary based in a list of stats:"
   ]
  },
  {
   "cell_type": "code",
   "execution_count": 33,
   "metadata": {
    "colab": {
     "base_uri": "https://localhost:8080/",
     "height": 34
    },
    "colab_type": "code",
    "executionInfo": {
     "elapsed": 978,
     "status": "ok",
     "timestamp": 1599305715056,
     "user": {
      "displayName": "Samuel Miravet Verde",
      "photoUrl": "https://lh3.googleusercontent.com/a-/AOh14GjDGGaKJmqa2Z1UGXlLT53WMo2BYkKW9vc9tfQC=s64",
      "userId": "09463750118472617321"
     },
     "user_tz": -120
    },
    "id": "NEODrA4Mm3W5",
    "outputId": "71a9d733-48f9-4eed-c9ba-fe671256fe32"
   },
   "outputs": [
    {
     "data": {
      "text/plain": [
       "array([ True])"
      ]
     },
     "execution_count": 33,
     "metadata": {
      "tags": []
     },
     "output_type": "execute_result"
    }
   ],
   "source": [
    "def extract_feats_by_name(pokemon_name):\n",
    "    \"\"\" Function to extract features from pokemon names \"\"\"\n",
    "    if pokemon_name in set(dataset['Name']):\n",
    "        feats = np.array(np.array(dataset[dataset['Name']==pokemon_name])[0][2:-1])\n",
    "        feats = feats.reshape(1, -1)\n",
    "        return feats\n",
    "    else:\n",
    "        print(pokemon_name, 'not in dataset.')\n",
    "        \n"
   ]
  },
  {
   "cell_type": "code",
   "execution_count": 35,
   "metadata": {
    "colab": {
     "base_uri": "https://localhost:8080/",
     "height": 34
    },
    "colab_type": "code",
    "executionInfo": {
     "elapsed": 874,
     "status": "ok",
     "timestamp": 1599305746513,
     "user": {
      "displayName": "Samuel Miravet Verde",
      "photoUrl": "https://lh3.googleusercontent.com/a-/AOh14GjDGGaKJmqa2Z1UGXlLT53WMo2BYkKW9vc9tfQC=s64",
      "userId": "09463750118472617321"
     },
     "user_tz": -120
    },
    "id": "FItoNQu2DJZZ",
    "outputId": "60a7c183-1b0c-42bd-d589-50ff20f509b4"
   },
   "outputs": [
    {
     "data": {
      "text/plain": [
       "array([ True])"
      ]
     },
     "execution_count": 35,
     "metadata": {
      "tags": []
     },
     "output_type": "execute_result"
    }
   ],
   "source": [
    "model.predict(extract_feats_by_name('Mewtwo'))"
   ]
  },
  {
   "cell_type": "code",
   "execution_count": 36,
   "metadata": {
    "colab": {
     "base_uri": "https://localhost:8080/",
     "height": 34
    },
    "colab_type": "code",
    "executionInfo": {
     "elapsed": 1427,
     "status": "ok",
     "timestamp": 1599305762334,
     "user": {
      "displayName": "Samuel Miravet Verde",
      "photoUrl": "https://lh3.googleusercontent.com/a-/AOh14GjDGGaKJmqa2Z1UGXlLT53WMo2BYkKW9vc9tfQC=s64",
      "userId": "09463750118472617321"
     },
     "user_tz": -120
    },
    "id": "g7sEV_D2m3W8",
    "outputId": "3ec6480a-65cc-4e42-e6d5-a20e96058b90"
   },
   "outputs": [
    {
     "data": {
      "text/plain": [
       "array([False])"
      ]
     },
     "execution_count": 36,
     "metadata": {
      "tags": []
     },
     "output_type": "execute_result"
    }
   ],
   "source": [
    "model.predict(extract_feats_by_name('Charizard')) # This is the label expected "
   ]
  },
  {
   "cell_type": "code",
   "execution_count": 38,
   "metadata": {
    "colab": {
     "base_uri": "https://localhost:8080/",
     "height": 34
    },
    "colab_type": "code",
    "executionInfo": {
     "elapsed": 874,
     "status": "ok",
     "timestamp": 1599305800453,
     "user": {
      "displayName": "Samuel Miravet Verde",
      "photoUrl": "https://lh3.googleusercontent.com/a-/AOh14GjDGGaKJmqa2Z1UGXlLT53WMo2BYkKW9vc9tfQC=s64",
      "userId": "09463750118472617321"
     },
     "user_tz": -120
    },
    "id": "nhBecoLbm3W_",
    "outputId": "ef6141fd-1543-470e-ada5-8eace5aacb61"
   },
   "outputs": [
    {
     "data": {
      "text/plain": [
       "array([[0.70480899, 0.29519101]])"
      ]
     },
     "execution_count": 38,
     "metadata": {
      "tags": []
     },
     "output_type": "execute_result"
    }
   ],
   "source": [
    "model.predict_proba(extract_feats_by_name('Charizard')) # These are the probabilities for each class"
   ]
  },
  {
   "cell_type": "markdown",
   "metadata": {
    "colab_type": "text",
    "id": "Nq_7-Bwvm3XQ"
   },
   "source": [
    "### Step 5. Feature importance\n",
    "\n",
    "Due to the greedy nature of Decision Trees, they are able to highlight which features are important deciding factors when classifying, this is known as feature selection.\n",
    "\n",
    "This will help us understand what features are relatively important in deciding what makes a Pokémon legendary.\n",
    "\n",
    "Sk-learn has a neat feature called feature_importances_which can measure a feature’s importance by looking at how much that feature reduces entropy in the forest on average. It scales the results so that the sum of all importances is equal to 1.\n",
    "\n",
    "The features which scored the highest are shown below."
   ]
  },
  {
   "cell_type": "code",
   "execution_count": 25,
   "metadata": {
    "colab": {
     "base_uri": "https://localhost:8080/",
     "height": 1000
    },
    "colab_type": "code",
    "executionInfo": {
     "elapsed": 2624,
     "status": "ok",
     "timestamp": 1599305851893,
     "user": {
      "displayName": "Samuel Miravet Verde",
      "photoUrl": "https://lh3.googleusercontent.com/a-/AOh14GjDGGaKJmqa2Z1UGXlLT53WMo2BYkKW9vc9tfQC=s64",
      "userId": "09463750118472617321"
     },
     "user_tz": -120
    },
    "id": "pR6h_uvnm3XS",
    "outputId": "1e73d4c3-6847-4662-c563-e2026b8657b2"
   },
   "outputs": [
    {
     "data": {
      "text/html": [
       "<div>\n",
       "<style scoped>\n",
       "    .dataframe tbody tr th:only-of-type {\n",
       "        vertical-align: middle;\n",
       "    }\n",
       "\n",
       "    .dataframe tbody tr th {\n",
       "        vertical-align: top;\n",
       "    }\n",
       "\n",
       "    .dataframe thead th {\n",
       "        text-align: right;\n",
       "    }\n",
       "</style>\n",
       "<table border=\"1\" class=\"dataframe\">\n",
       "  <thead>\n",
       "    <tr style=\"text-align: right;\">\n",
       "      <th></th>\n",
       "      <th>Importance</th>\n",
       "    </tr>\n",
       "  </thead>\n",
       "  <tbody>\n",
       "    <tr>\n",
       "      <th>rnase3_downreg</th>\n",
       "      <td>6.798332</td>\n",
       "    </tr>\n",
       "    <tr>\n",
       "      <th>transcript_length</th>\n",
       "      <td>6.402080</td>\n",
       "    </tr>\n",
       "    <tr>\n",
       "      <th>GC_content</th>\n",
       "      <td>5.461167</td>\n",
       "    </tr>\n",
       "    <tr>\n",
       "      <th>fiveUTR_length</th>\n",
       "      <td>4.821756</td>\n",
       "    </tr>\n",
       "    <tr>\n",
       "      <th>first_energy3</th>\n",
       "      <td>4.567992</td>\n",
       "    </tr>\n",
       "    <tr>\n",
       "      <th>last_energy3</th>\n",
       "      <td>4.386406</td>\n",
       "    </tr>\n",
       "    <tr>\n",
       "      <th>gene_level_avg_ribo_density_scaled</th>\n",
       "      <td>4.297219</td>\n",
       "    </tr>\n",
       "    <tr>\n",
       "      <th>last_energy5</th>\n",
       "      <td>4.275341</td>\n",
       "    </tr>\n",
       "    <tr>\n",
       "      <th>first_energy1</th>\n",
       "      <td>4.260543</td>\n",
       "    </tr>\n",
       "    <tr>\n",
       "      <th>CAI_index</th>\n",
       "      <td>4.211518</td>\n",
       "    </tr>\n",
       "    <tr>\n",
       "      <th>RNA_copy_number_6h</th>\n",
       "      <td>4.153318</td>\n",
       "    </tr>\n",
       "    <tr>\n",
       "      <th>coverage</th>\n",
       "      <td>4.084346</td>\n",
       "    </tr>\n",
       "    <tr>\n",
       "      <th>CDS_energy</th>\n",
       "      <td>4.043489</td>\n",
       "    </tr>\n",
       "    <tr>\n",
       "      <th>first_energy5</th>\n",
       "      <td>4.000555</td>\n",
       "    </tr>\n",
       "    <tr>\n",
       "      <th>fiveCDS_energy</th>\n",
       "      <td>3.497716</td>\n",
       "    </tr>\n",
       "    <tr>\n",
       "      <th>CDS_length</th>\n",
       "      <td>3.473462</td>\n",
       "    </tr>\n",
       "    <tr>\n",
       "      <th>last_energy1</th>\n",
       "      <td>3.471188</td>\n",
       "    </tr>\n",
       "    <tr>\n",
       "      <th>last_riboseq2</th>\n",
       "      <td>3.432345</td>\n",
       "    </tr>\n",
       "    <tr>\n",
       "      <th>threeUTR_length</th>\n",
       "      <td>3.110027</td>\n",
       "    </tr>\n",
       "    <tr>\n",
       "      <th>last_riboseq1</th>\n",
       "      <td>3.097459</td>\n",
       "    </tr>\n",
       "    <tr>\n",
       "      <th>first_riboseq2</th>\n",
       "      <td>2.838137</td>\n",
       "    </tr>\n",
       "    <tr>\n",
       "      <th>threeCDS_energy</th>\n",
       "      <td>2.732857</td>\n",
       "    </tr>\n",
       "    <tr>\n",
       "      <th>first_riboseq1</th>\n",
       "      <td>2.594523</td>\n",
       "    </tr>\n",
       "    <tr>\n",
       "      <th>gene_number_operon</th>\n",
       "      <td>2.274246</td>\n",
       "    </tr>\n",
       "    <tr>\n",
       "      <th>localization_cytoplasm</th>\n",
       "      <td>1.158466</td>\n",
       "    </tr>\n",
       "    <tr>\n",
       "      <th>localization_membrane</th>\n",
       "      <td>0.904517</td>\n",
       "    </tr>\n",
       "    <tr>\n",
       "      <th>essentiality_NE</th>\n",
       "      <td>0.683027</td>\n",
       "    </tr>\n",
       "    <tr>\n",
       "      <th>localization_lipoprotein</th>\n",
       "      <td>0.449360</td>\n",
       "    </tr>\n",
       "    <tr>\n",
       "      <th>essentiality_E</th>\n",
       "      <td>0.422243</td>\n",
       "    </tr>\n",
       "    <tr>\n",
       "      <th>localization_signalp</th>\n",
       "      <td>0.096362</td>\n",
       "    </tr>\n",
       "  </tbody>\n",
       "</table>\n",
       "</div>"
      ],
      "text/plain": [
       "                                    Importance\n",
       "rnase3_downreg                        6.798332\n",
       "transcript_length                     6.402080\n",
       "GC_content                            5.461167\n",
       "fiveUTR_length                        4.821756\n",
       "first_energy3                         4.567992\n",
       "last_energy3                          4.386406\n",
       "gene_level_avg_ribo_density_scaled    4.297219\n",
       "last_energy5                          4.275341\n",
       "first_energy1                         4.260543\n",
       "CAI_index                             4.211518\n",
       "RNA_copy_number_6h                    4.153318\n",
       "coverage                              4.084346\n",
       "CDS_energy                            4.043489\n",
       "first_energy5                         4.000555\n",
       "fiveCDS_energy                        3.497716\n",
       "CDS_length                            3.473462\n",
       "last_energy1                          3.471188\n",
       "last_riboseq2                         3.432345\n",
       "threeUTR_length                       3.110027\n",
       "last_riboseq1                         3.097459\n",
       "first_riboseq2                        2.838137\n",
       "threeCDS_energy                       2.732857\n",
       "first_riboseq1                        2.594523\n",
       "gene_number_operon                    2.274246\n",
       "localization_cytoplasm                1.158466\n",
       "localization_membrane                 0.904517\n",
       "essentiality_NE                       0.683027\n",
       "localization_lipoprotein              0.449360\n",
       "essentiality_E                        0.422243\n",
       "localization_signalp                  0.096362"
      ]
     },
     "execution_count": 25,
     "metadata": {},
     "output_type": "execute_result"
    }
   ],
   "source": [
    "importances = {feature:importance*100 for feature, importance in zip(X.columns, model.feature_importances_)}\n",
    "importances = pd.DataFrame.from_dict(importances, orient='index')\n",
    "importances.columns = ['Importance']\n",
    "importances.sort_values(by='Importance', ascending=False)"
   ]
  },
  {
   "cell_type": "code",
   "execution_count": 558,
   "metadata": {
    "colab": {
     "base_uri": "https://localhost:8080/",
     "height": 732
    },
    "colab_type": "code",
    "executionInfo": {
     "elapsed": 2025,
     "status": "ok",
     "timestamp": 1599305938781,
     "user": {
      "displayName": "Samuel Miravet Verde",
      "photoUrl": "https://lh3.googleusercontent.com/a-/AOh14GjDGGaKJmqa2Z1UGXlLT53WMo2BYkKW9vc9tfQC=s64",
      "userId": "09463750118472617321"
     },
     "user_tz": -120
    },
    "id": "7k2t6lVIm3XW",
    "outputId": "91874b45-8ee6-4f39-9706-a99a104d11ef"
   },
   "outputs": [
    {
     "data": {
      "image/png": "[encoded data removed]",
      "text/plain": [
       "<Figure size 720x720 with 1 Axes>"
      ]
     },
     "metadata": {},
     "output_type": "display_data"
    }
   ],
   "source": [
    "# more graphical\n",
    "plot = importances.plot.pie(y='Importance', figsize=(10, 10))"
   ]
  },
  {
   "cell_type": "markdown",
   "metadata": {
    "colab_type": "text",
    "id": "FolGobiam3Xa"
   },
   "source": [
    "Interestingly enough, it appears that the most decisive feature is Total (the total sum of all base stats).\n",
    "\n",
    "Legendary Pokémon are generally known to be more powerful than normal Pokémon, so it makes sense that the Total attribute would be a big indicator of legendary status.\n",
    "\n",
    "Also, we can see there is a quick decline in importance value from Total to lesser important features. This shows us that certain features such as the Types are not actually giving us much information in identifying legendary Pokemon. (Type 1_Bug only reduces entropy 0.6% of the time!). These means this features could be not taken into account and they can possibly be removed from our data set as they’re just noise."
   ]
  },
  {
   "cell_type": "code",
   "execution_count": 42,
   "metadata": {
    "colab": {
     "base_uri": "https://localhost:8080/",
     "height": 279
    },
    "colab_type": "code",
    "executionInfo": {
     "elapsed": 9559,
     "status": "ok",
     "timestamp": 1599306038193,
     "user": {
      "displayName": "Samuel Miravet Verde",
      "photoUrl": "https://lh3.googleusercontent.com/a-/AOh14GjDGGaKJmqa2Z1UGXlLT53WMo2BYkKW9vc9tfQC=s64",
      "userId": "09463750118472617321"
     },
     "user_tz": -120
    },
    "id": "1Lj5jhLvm3Xb",
    "outputId": "8c97dfe9-a868-4be3-95fe-7345fb999564"
   },
   "outputs": [
    {
     "data": {
      "image/png": "[encoded data removed]",
      "text/plain": [
       "<Figure size 432x288 with 1 Axes>"
      ]
     },
     "metadata": {
      "needs_background": "light",
      "tags": []
     },
     "output_type": "display_data"
    }
   ],
   "source": [
    "# Plot relating the probability to be legendary with some of the features:\n",
    "probs = []\n",
    "feat = 'HP'\n",
    "feature = list(dataset[feat])\n",
    "for pokemon in list(dataset['Name']):\n",
    "    probs.append(model.predict_proba(extract_feats_by_name(pokemon))[0][1])\n",
    "plt.scatter(feature, probs, color=['orange' if i else 'blue' for i in y])\n",
    "plt.xlabel(feat)\n",
    "plt.ylabel('P(legendary)')\n",
    "plt.show()"
   ]
  },
  {
   "cell_type": "markdown",
   "metadata": {
    "colab_type": "text",
    "id": "PhfNrqZam3Xe"
   },
   "source": [
    "## Part V. Discussion and conclusions\n",
    "\n",
    "- Do you think these methods are useful? \n",
    "- Can you come up with a clinical example where this could be used? \n"
   ]
  },
  {
   "cell_type": "code",
   "execution_count": null,
   "metadata": {
    "colab": {},
    "colab_type": "code",
    "id": "2qrZZ3hvm3Xf"
   },
   "outputs": [],
   "source": []
  }
 ],
 "metadata": {
  "colab": {
   "collapsed_sections": [],
   "name": "S Big Data in Biology.ipynb",
   "provenance": [],
   "toc_visible": true
  },
  "kernelspec": {
   "display_name": "Python 3",
   "language": "python",
   "name": "python3"
  },
  "language_info": {
   "codemirror_mode": {
    "name": "ipython",
    "version": 3
   },
   "file_extension": ".py",
   "mimetype": "text/x-python",
   "name": "python",
   "nbconvert_exporter": "python",
   "pygments_lexer": "ipython3",
   "version": "3.8.3"
  }
 },
 "nbformat": 4,
 "nbformat_minor": 4
}
